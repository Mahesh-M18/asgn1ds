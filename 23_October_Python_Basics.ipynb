{
 "cells": [
  {
   "cell_type": "raw",
   "id": "62371ff6-7a54-46e2-82f3-2d3165f9e74f",
   "metadata": {},
   "source": [
    "1. Declare two variables, `x` and `y`, and assign them integer values. Swap the values of these variables without using any temporary variable."
   ]
  },
  {
   "cell_type": "code",
   "execution_count": null,
   "id": "46e7d117-5b8f-4083-befc-50843c37c062",
   "metadata": {},
   "outputs": [],
   "source": [
    "#taking the input values of 'x' and 'y'\n",
    "x=int(input(\"Enter x : \"))\n",
    "y=int(input(\"Enter y : \"))\n",
    "print(\"Before swap\\n\",\" x =\",x,\"\\n  y =\",y)\n",
    "#swapping the values of 'x' and 'y'\n",
    "x,y=y,x\n",
    "print(\"After swap\\n\",\" x =\",x,\"\\n  y =\",y)"
   ]
  },
  {
   "cell_type": "raw",
   "id": "798efd74-389d-4ae8-b3e8-c17a2b688454",
   "metadata": {},
   "source": [
    "2. Create a program that calculates the area of a rectangle. Take the length and width as inputs from the user and store them in variables. Calculate and display the area."
   ]
  },
  {
   "cell_type": "code",
   "execution_count": null,
   "id": "523bbe17-7d29-40a8-a839-60bfea12c776",
   "metadata": {},
   "outputs": [],
   "source": [
    "#taking the input values of length and width\n",
    "l=int(input(\"Enter length : \"))\n",
    "w=int(input(\"Enter width : \"))  \n",
    "print(\"Length of the rectangle = \",l)\n",
    "print(\"Width of the rectangle = \",w)\n",
    "#multiplying the given length and width to obtain the area\n",
    "print(\"Area of the rectangle = \",l*w)"
   ]
  },
  {
   "cell_type": "raw",
   "id": "2045dc3d-9fa7-4955-9a4c-396f7ea7859f",
   "metadata": {},
   "source": [
    "3. Write a Python program that converts temperatures from Celsius toFahrenheit. Take the temperature in Celsius as input, store it in a variable,convert it to Fahrenheit, and display the result."
   ]
  },
  {
   "cell_type": "code",
   "execution_count": null,
   "id": "03b2bb5b-5fbd-4f26-be6c-d8a26cfdad9e",
   "metadata": {},
   "outputs": [],
   "source": [
    "#taking the input value of temperature in celsius\n",
    "c=int(input(\"Enter the temperature in celsius : \"))\n",
    "#conversion of celsius into fahrenheit\n",
    "f=(c*9/5)+32\n",
    "print(\"Temperature in Fahrenheit =\",f)"
   ]
  },
  {
   "cell_type": "raw",
   "id": "95bbfc9a-d9a5-4678-a776-98197631c165",
   "metadata": {},
   "source": [
    "1. Write a Python program that takes a string as input and prints the length of the string."
   ]
  },
  {
   "cell_type": "code",
   "execution_count": null,
   "id": "f3f904fb-cb30-4679-9d1c-d156fdc46400",
   "metadata": {},
   "outputs": [],
   "source": [
    "#taking the input values of string\n",
    "s=input(\"Enter the string : \")\n",
    "#obtaining the length of the string\n",
    "print(\"Length of the entered string =\",len(s))"
   ]
  },
  {
   "cell_type": "raw",
   "id": "41274de4-6527-4b65-80d5-8cee4cd778cd",
   "metadata": {},
   "source": [
    "2. Create a program that takes a sentence from the user and counts the number of vowels (a, e, i, o, u) in the string."
   ]
  },
  {
   "cell_type": "code",
   "execution_count": null,
   "id": "1e6db235-0095-412f-9a9d-0791746b330d",
   "metadata": {},
   "outputs": [],
   "source": [
    "#taking the input value of sentence\n",
    "s=input(\"Enter the sentence : \")\n",
    "a=\"aeiou\"\n",
    "#converting all the characters into lower case\n",
    "s=s.lower()\n",
    "v=0\n",
    "#calculating the number of vowels\n",
    "for i in s:\n",
    "    if i in a:\n",
    "        v+=1\n",
    "print(\"The number of vowels in the entered sentence is = \",v)\n"
   ]
  },
  {
   "cell_type": "raw",
   "id": "3ec34c15-3adb-41f0-b585-726bea443261",
   "metadata": {},
   "source": [
    "3. Given a string, reverse the order of characters using string slicing and print the reversed string."
   ]
  },
  {
   "cell_type": "code",
   "execution_count": null,
   "id": "4fb782c7-246d-48b5-8147-9189c1806511",
   "metadata": {},
   "outputs": [],
   "source": [
    "#taking the input values of string\n",
    "s=input(\"Enter the string : \")\n",
    "#reversing the string\n",
    "a=s[::-1]\n",
    "print(\"Reversed String : \",a)"
   ]
  },
  {
   "cell_type": "raw",
   "id": "e7bfe63d-06da-46be-86b5-fc4cd6d153b9",
   "metadata": {},
   "source": [
    "4. Write a program that takes a string as input and checks if it is a palindrome (reads the same forwards and backwards)."
   ]
  },
  {
   "cell_type": "code",
   "execution_count": null,
   "id": "3ea71e60-fd58-442a-9b63-c3babd586407",
   "metadata": {},
   "outputs": [],
   "source": [
    "#taking the input value of string\n",
    "s=input(\"Enter the string : \")\n",
    "#reversing the string and checking the equalness of both the string \n",
    "a=s[::-1]\n",
    "if (a==s):\n",
    "    print(\"Entered String is Palindrome\")\n",
    "else:\n",
    "    print(\"Entered String is not Palindrome\")"
   ]
  },
  {
   "cell_type": "raw",
   "id": "955137a4-e02e-45a0-bb51-ef93368b548e",
   "metadata": {},
   "source": [
    "5. Create a program that takes a string as input and removes all the spaces from it. Print the modified string without spaces."
   ]
  },
  {
   "cell_type": "code",
   "execution_count": null,
   "id": "889c0f10-6517-4e3e-9233-40a06232fd93",
   "metadata": {},
   "outputs": [],
   "source": [
    "#taking the input value of string\n",
    "s=input(\"Enter the string : \")\n",
    "#replacing all the whitespaces with no spaces\n",
    "a=s.replace(\" \",\"\")\n",
    "print(\"Modified String is : \",a)"
   ]
  }
 ],
 "metadata": {
  "kernelspec": {
   "display_name": "Python 3 (ipykernel)",
   "language": "python",
   "name": "python3"
  },
  "language_info": {
   "codemirror_mode": {
    "name": "ipython",
    "version": 3
   },
   "file_extension": ".py",
   "mimetype": "text/x-python",
   "name": "python",
   "nbconvert_exporter": "python",
   "pygments_lexer": "ipython3",
   "version": "3.10.8"
  }
 },
 "nbformat": 4,
 "nbformat_minor": 5
}
